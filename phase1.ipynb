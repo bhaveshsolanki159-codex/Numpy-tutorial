{
 "cells": [
  {
   "cell_type": "markdown",
   "metadata": {},
   "source": [
    "## Numpy array and basics"
   ]
  },
  {
   "cell_type": "code",
   "execution_count": null,
   "metadata": {},
   "outputs": [],
   "source": [
    "import numpy as np "
   ]
  },
  {
   "cell_type": "code",
   "execution_count": null,
   "metadata": {},
   "outputs": [
    {
     "name": "stdout",
     "output_type": "stream",
     "text": [
      "1D array: [1 2 3 4 5]\n",
      "2D array: [[1 2 3]\n",
      " [4 5 6]]\n"
     ]
    }
   ],
   "source": [
    "\n",
    "# import numpy as np\n",
    "\n",
    "arr_1D = np.array([1, 2, 3, 4, 5])\n",
    "print(\"1D array:\", arr_1D)\n",
    "\n",
    "arr_2D = np.array([[1, 2, 3], [4, 5, 6]])\n",
    "print(\"2D array:\", arr_2D)"
   ]
  },
  {
   "cell_type": "markdown",
   "metadata": {},
   "source": [
    "### List v/s Numpy array"
   ]
  },
  {
   "cell_type": "code",
   "execution_count": 3,
   "metadata": {},
   "outputs": [
    {
     "name": "stdout",
     "output_type": "stream",
     "text": [
      "Python List: [1, 2, 3, 4, 5, 1, 2, 3, 4, 5]\n",
      "Numpy Array: [[ 2  4  6]\n",
      " [ 8 10 12]]\n",
      "Time taken for list: 0.043189287185668945\n",
      "Time taken for numpy array: 0.003526449203491211\n"
     ]
    }
   ],
   "source": [
    "py_list = [1, 2, 3, 4, 5]\n",
    "print(\"Python List:\", py_list*2)\n",
    "\n",
    "np_arr = np.array([[1, 2, 3], [4, 5, 6]])\n",
    "print(\"Numpy Array:\", np_arr*2)\n",
    "\n",
    "import time\n",
    "current_time = time.time()\n",
    "py_list = [i*2 for i in range(1000000)]\n",
    "print(\"Time taken for list:\", time.time()-current_time)\n",
    "\n",
    "current_time = time.time()\n",
    "np_arr = np.arange(1000000)*2\n",
    "print(\"Time taken for numpy array:\", time.time()-current_time)"
   ]
  },
  {
   "cell_type": "markdown",
   "metadata": {},
   "source": [
    "### Creating arrays from scratch"
   ]
  },
  {
   "cell_type": "code",
   "execution_count": 4,
   "metadata": {},
   "outputs": [
    {
     "name": "stdout",
     "output_type": "stream",
     "text": [
      "Zeros: [[0. 0.]\n",
      " [0. 0.]]\n",
      "Ones: [[1. 1.]\n",
      " [1. 1.]]\n",
      "Identity Matrix: [[1. 0.]\n",
      " [0. 1.]]\n",
      "Random Matrix: [[0.59187687 0.46566035]\n",
      " [0.00911851 0.18727978]]\n",
      "Sequence: [0 2 4 6 8]\n",
      "Linspace: [ 0.  2.  4.  6.  8. 10.]\n",
      "Shape: (2, 3)\n",
      "Reshape: [[1 2]\n",
      " [3 4]\n",
      " [5 6]]\n"
     ]
    }
   ],
   "source": [
    "zeros = np.zeros((2, 2))\n",
    "print(\"Zeros:\", zeros)\n",
    "\n",
    "ones = np.ones((2,2))\n",
    "print(\"Ones:\", ones)\n",
    "\n",
    "eye = np.eye(2)\n",
    "print(\"Identity Matrix:\", eye)\n",
    "\n",
    "random = np.random.random((2,2))\n",
    "print(\"Random Matrix:\", random)\n",
    "\n",
    "sequence = np.arange(0, 10, 2)\n",
    "print(\"Sequence:\", sequence)\n",
    "\n",
    "linspace = np.linspace(0, 10, 6)\n",
    "print(\"Linspace:\", linspace)\n",
    "\n",
    "arr = np.array([[1, 2, 3], [4, 5, 6]])\n",
    "print(\"Shape:\", arr.shape)\n",
    "\n",
    "arr = np.array([[1, 2, 3], [4, 5, 6]])\n",
    "print(\"Reshape:\", arr.reshape(3, 2))\n",
    "\n",
    "\n"
   ]
  },
  {
   "cell_type": "markdown",
   "metadata": {},
   "source": [
    "### Vector, Matries and Tensors"
   ]
  },
  {
   "cell_type": "code",
   "execution_count": 5,
   "metadata": {},
   "outputs": [
    {
     "name": "stdout",
     "output_type": "stream",
     "text": [
      "Vector: [1 2 3 4 5]\n",
      "Matrix: [[1 2 3]\n",
      " [4 5 6]]\n",
      "Tensor: [[[ 1  2  3]\n",
      "  [ 4  5  6]]\n",
      "\n",
      " [[ 7  8  9]\n",
      "  [10 11 12]]]\n"
     ]
    }
   ],
   "source": [
    "vector = np.array([1, 2, 3, 4, 5])\n",
    "print(\"Vector:\", vector)\n",
    "\n",
    "matrix = np.array([[1, 2, 3], [4, 5, 6]])\n",
    "print(\"Matrix:\", matrix)\n",
    "\n",
    "tensor = np.array([[[1,2,3],[4,5,6]],[[7,8,9],[10,11,12]]])\n",
    "print(\"Tensor:\", tensor)"
   ]
  },
  {
   "cell_type": "markdown",
   "metadata": {},
   "source": [
    "### Arrays Properties"
   ]
  },
  {
   "cell_type": "code",
   "execution_count": 6,
   "metadata": {},
   "outputs": [
    {
     "name": "stdout",
     "output_type": "stream",
     "text": [
      "Transpose: [[1 4]\n",
      " [2 5]\n",
      " [3 6]]\n",
      "shape:  (2, 3)\n",
      "Dimension:  2\n",
      "Size:  6\n",
      "Data Type:  int64\n",
      "Item Size:  8\n"
     ]
    }
   ],
   "source": [
    "arr = np.array([[1, 2, 3], [4, 5, 6]])\n",
    "print(\"Transpose:\", arr.T)\n",
    "print(\"shape: \", arr.shape)\n",
    "print(\"Dimension: \", arr.ndim)\n",
    "print(\"Size: \", arr.size)\n",
    "print(\"Data Type: \", arr.dtype)\n",
    "print(\"Item Size: \", arr.itemsize)"
   ]
  },
  {
   "cell_type": "markdown",
   "metadata": {},
   "source": [
    "### Reshaping an arrays"
   ]
  },
  {
   "cell_type": "code",
   "execution_count": 7,
   "metadata": {},
   "outputs": [
    {
     "name": "stdout",
     "output_type": "stream",
     "text": [
      "arr: [ 0  1  2  3  4  5  6  7  8  9 10 11]\n",
      "Reshaped:\n",
      " [[ 0  1  2  3]\n",
      " [ 4  5  6  7]\n",
      " [ 8  9 10 11]]\n",
      "Flattened: [ 0  1  2  3  4  5  6  7  8  9 10 11]\n",
      "Raveled: [ 0  1  2  3  4  5  6  7  8  9 10 11]\n",
      "Transpose of reshaped:\n",
      " [[ 0  4  8]\n",
      " [ 1  5  9]\n",
      " [ 2  6 10]\n",
      " [ 3  7 11]]\n"
     ]
    }
   ],
   "source": [
    "arr = np.arange(12)\n",
    "print(\"arr:\", arr)\n",
    "\n",
    "reshaped = arr.reshape(3, 4)\n",
    "print(\"Reshaped:\\n\", reshaped)\n",
    "\n",
    "flattened = reshaped.flatten()\n",
    "print(\"Flattened:\", flattened)\n",
    "\n",
    "# ravel returns a view of the original array, instead of a copy\n",
    "raveled = reshaped.ravel()\n",
    "print(\"Raveled:\", raveled)\n",
    "\n",
    "#transpose\n",
    "trans = reshaped.T\n",
    "print(\"Transpose of reshaped:\\n\", trans)"
   ]
  }
 ],
 "metadata": {
  "kernelspec": {
   "display_name": "venv",
   "language": "python",
   "name": "python3"
  },
  "language_info": {
   "codemirror_mode": {
    "name": "ipython",
    "version": 3
   },
   "file_extension": ".py",
   "mimetype": "text/x-python",
   "name": "python",
   "nbconvert_exporter": "python",
   "pygments_lexer": "ipython3",
   "version": "3.13.0"
  }
 },
 "nbformat": 4,
 "nbformat_minor": 2
}
